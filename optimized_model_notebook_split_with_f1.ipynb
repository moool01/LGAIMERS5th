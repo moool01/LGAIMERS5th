{
 "cells": [
  {
   "cell_type": "code",
   "execution_count": 1,
   "id": "3c7e033d",
   "metadata": {},
   "outputs": [],
   "source": [
    "\n",
    "import os\n",
    "import pandas as pd\n",
    "from sklearn.ensemble import RandomForestClassifier\n",
    "from sklearn.model_selection import train_test_split, GridSearchCV\n",
    "from sklearn.metrics import accuracy_score, classification_report, confusion_matrix\n",
    "import joblib\n",
    "\n",
    "\n"
   ]
  },
  {
   "cell_type": "code",
   "execution_count": 2,
   "id": "204a6360",
   "metadata": {},
   "outputs": [],
   "source": [
    "\n",
    "# Function to read and preprocess data\n",
    "def read_and_preprocess(file_path, header=None):\n",
    "    df = pd.read_excel(file_path, header=header)\n",
    "    return df\n",
    "\n",
    "# Load data\n",
    "X_Dam = read_and_preprocess(os.path.join(ROOT_DIR, \"Dam dispensing.xlsx\"), header=1)\n",
    "X_AutoClave = read_and_preprocess(os.path.join(ROOT_DIR, \"Auto clave.xlsx\"), header=1)\n",
    "X_Fill1 = read_and_preprocess(os.path.join(ROOT_DIR, \"Fill1 dispensing.xlsx\"), header=1)\n",
    "X_Fill2 = read_and_preprocess(os.path.join(ROOT_DIR, \"Fill2 dispensing.xlsx\"), header=1)\n",
    "y = pd.read_csv(os.path.join(ROOT_DIR, \"train_y.csv\"))\n"
   ]
  },
  {
   "cell_type": "code",
   "execution_count": 3,
   "id": "c0e40f80",
   "metadata": {},
   "outputs": [],
   "source": [
    "# Constants\n",
    "ROOT_DIR = \"data\"\n",
    "RANDOM_STATE = 110\n",
    "# Merge data\n",
    "X_Dam.columns = [i + \" - Dam\" for i in X_Dam.columns]\n",
    "X_AutoClave.columns = [i + \" - AutoClave\" for i in X_AutoClave.columns]\n",
    "X_Fill1.columns = [i + \" - Fill1\" for i in X_Fill1.columns]\n",
    "X_Fill2.columns = [i + \" - Fill2\" for i in X_Fill2.columns]\n",
    "X_Dam = X_Dam.rename(columns={\"Set ID - Dam\": \"Set ID\"})\n",
    "X_AutoClave = X_AutoClave.rename(columns={\"Set ID - AutoClave\": \"Set ID\"})\n",
    "X_Fill1 = X_Fill1.rename(columns={\"Set ID - Fill1\": \"Set ID\"})\n",
    "X_Fill2 = X_Fill2.rename(columns={\"Set ID - Fill2\": \"Set ID\"})\n",
    "\n",
    "X = pd.merge(X_Dam, X_AutoClave, on=\"Set ID\")\n",
    "X = pd.merge(X, X_Fill1, on=\"Set ID\")\n",
    "X = pd.merge(X, X_Fill2, on=\"Set ID\")\n",
    "\n",
    "# Merge with target variable\n",
    "df = pd.merge(X, y, on=\"Set ID\")\n"
   ]
  },
  {
   "cell_type": "code",
   "execution_count": 4,
   "id": "8d08fa0f",
   "metadata": {},
   "outputs": [],
   "source": [
    "\n",
    "# Split into train and validation set\n",
    "df_train, df_val = train_test_split(df, test_size=0.3, stratify=df[\"target\"], random_state=RANDOM_STATE)\n",
    "\n",
    "# Function to preprocess data and extract features\n",
    "def preprocess_and_extract_features(df_train, df_val):\n",
    "    features = []\n",
    "    for col in df_train.columns:\n",
    "        try:\n",
    "            df_train[col] = df_train[col].astype(int)\n",
    "            df_val[col] = df_val[col].astype(int)\n",
    "            features.append(col)\n",
    "        except:\n",
    "            continue\n",
    "    if \"Set ID\" in features:\n",
    "        features.remove(\"Set ID\")\n",
    "    return df_train[features], df_train[\"target\"], df_val[features], df_val[\"target\"], features\n",
    "\n",
    "# Extract features and target\n",
    "train_x, train_y, val_x, val_y, features = preprocess_and_extract_features(df_train, df_val)\n"
   ]
  },
  {
   "cell_type": "code",
   "execution_count": null,
   "id": "1a81eba2",
   "metadata": {},
   "outputs": [],
   "source": [
    "\n",
    "# Hyperparameter tuning using GridSearchCV\n",
    "param_grid = {\n",
    "    'n_estimators': [100, 200, 300],\n",
    "    'max_depth': [None, 10, 20, 30],\n",
    "    'min_samples_split': [2, 5, 10],\n",
    "    'min_samples_leaf': [1, 2, 4]\n",
    "}\n",
    "\n",
    "grid_search = GridSearchCV(estimator=RandomForestClassifier(random_state=RANDOM_STATE),\n",
    "                           param_grid=param_grid,\n",
    "                           cv=5,\n",
    "                           n_jobs=-1,\n",
    "                           verbose=2)\n",
    "\n",
    "grid_search.fit(train_x, train_y)\n",
    "\n",
    "# Best parameters and model\n",
    "best_params = grid_search.best_params_\n",
    "best_model = grid_search.best_estimator_\n"
   ]
  },
  {
   "cell_type": "code",
   "execution_count": null,
   "id": "227c3d30",
   "metadata": {},
   "outputs": [],
   "source": [
    "\n",
    "# Evaluate on validation set\n",
    "val_pred = best_model.predict(val_x)\n",
    "print(f\"Validation Accuracy: {accuracy_score(val_y, val_pred)}\")\n",
    "print(f\"Classification Report:\\n{classification_report(val_y, val_pred)}\")\n",
    "print(f\"Confusion Matrix:\\n{confusion_matrix(val_y, val_pred)}\")\n"
   ]
  },
  {
   "cell_type": "code",
   "execution_count": null,
   "id": "bdbf8a91",
   "metadata": {},
   "outputs": [],
   "source": [
    "\n",
    "from sklearn.metrics import f1_score\n",
    "\n",
    "# Calculate F1 score\n",
    "f1 = f1_score(val_y, val_pred, average='weighted')\n",
    "print(f\"F1 Score: {f1}\")\n"
   ]
  },
  {
   "cell_type": "code",
   "execution_count": null,
   "id": "dd3c88cd",
   "metadata": {},
   "outputs": [],
   "source": [
    "\n",
    "# Save the best model\n",
    "model_filename = \"best_random_forest_model.joblib\"\n",
    "joblib.dump(best_model, model_filename)\n",
    "\n",
    "# Output best parameters and validation accuracy\n",
    "best_params, best_model.score(val_x, val_y)\n",
    "    "
   ]
  }
 ],
 "metadata": {
  "kernelspec": {
   "display_name": "base",
   "language": "python",
   "name": "python3"
  },
  "language_info": {
   "codemirror_mode": {
    "name": "ipython",
    "version": 3
   },
   "file_extension": ".py",
   "mimetype": "text/x-python",
   "name": "python",
   "nbconvert_exporter": "python",
   "pygments_lexer": "ipython3",
   "version": "3.11.7"
  }
 },
 "nbformat": 4,
 "nbformat_minor": 5
}
