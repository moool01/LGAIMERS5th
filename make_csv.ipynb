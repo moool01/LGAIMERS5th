{
 "cells": [
  {
   "cell_type": "code",
   "execution_count": 1,
   "metadata": {},
   "outputs": [],
   "source": [
    "import pandas as pd\n",
    "import os\n",
    "import re"
   ]
  },
  {
   "cell_type": "code",
   "execution_count": 2,
   "metadata": {},
   "outputs": [],
   "source": [
    "ROOT_DIR = \"data\""
   ]
  },
  {
   "cell_type": "code",
   "execution_count": 3,
   "metadata": {},
   "outputs": [],
   "source": [
    "#원래 코드에서 header = 1 삭제 후 생성한 csv"
   ]
  },
  {
   "cell_type": "code",
   "execution_count": 8,
   "metadata": {},
   "outputs": [
    {
     "name": "stderr",
     "output_type": "stream",
     "text": [
      "/var/folders/qj/004xgdtd15520sxppmd4bvvh0000gn/T/ipykernel_10073/2330838172.py:23: FutureWarning: Series.__getitem__ treating keys as positions is deprecated. In a future version, integer keys will always be treated as labels (consistent with DataFrame behavior). To access a value by position, use `ser.iloc[pos]`\n",
      "  else remove_dotted_numbers(first_row[idx])\n",
      "/var/folders/qj/004xgdtd15520sxppmd4bvvh0000gn/T/ipykernel_10073/2330838172.py:21: FutureWarning: Series.__getitem__ treating keys as positions is deprecated. In a future version, integer keys will always be treated as labels (consistent with DataFrame behavior). To access a value by position, use `ser.iloc[pos]`\n",
      "  f\"{remove_dotted_numbers(col)}_{remove_dotted_numbers(first_row[idx])}\"\n"
     ]
    },
    {
     "name": "stdout",
     "output_type": "stream",
     "text": [
      "      Wip Line    Process Desc.           Equipment Model.Suffix   Workorder  \\\n",
      "1      IVI-OB6  Fill2 Dispenser  Fill2 dispenser #1  AJX75334501  3F1X5847-2   \n",
      "2      IVI-OB6  Fill2 Dispenser  Fill2 dispenser #1  AJX75334501  3F1X5847-2   \n",
      "3      IVI-OB6  Fill2 Dispenser  Fill2 dispenser #1  AJX75334501  3F1X5847-2   \n",
      "4      IVI-OB6  Fill2 Dispenser  Fill2 dispenser #1  AJX75334501  3F1X5847-2   \n",
      "5      IVI-OB6  Fill2 Dispenser  Fill2 dispenser #1  AJX75334501  3F1X5847-2   \n",
      "...        ...              ...                 ...          ...         ...   \n",
      "62314  IVI-OB6  Fill2 Dispenser  Fill2 dispenser #2  AJX75334505  4F1XB738-1   \n",
      "62315  IVI-OB6  Fill2 Dispenser  Fill2 dispenser #1  AJX75334505  4F1XB738-1   \n",
      "62316  IVI-OB6  Fill2 Dispenser  Fill2 dispenser #2  AJX75334505  4F1XB738-1   \n",
      "62317  IVI-OB6  Fill2 Dispenser  Fill2 dispenser #1  AJX75334505  4F1XB738-1   \n",
      "62318  IVI-OB6  Fill2 Dispenser  Fill2 dispenser #2  AJX75334505  4F1XB738-1   \n",
      "\n",
      "                     LOT ID                Set ID Box ID         Collect Date  \\\n",
      "1      OP753345013050000002  OP753345013050000002    NaN  2023-05-04 09:00:48   \n",
      "2      OP753345013050000003  OP753345013050000003    NaN  2023-05-04 09:15:00   \n",
      "3      OP753345013050000004  OP753345013050000004    NaN  2023-05-04 09:17:04   \n",
      "4      OP753345013050000005  OP753345013050000005    NaN  2023-05-04 09:19:08   \n",
      "5      OP753345013050000006  OP753345013050000006    NaN  2023-05-04 09:21:11   \n",
      "...                     ...                   ...    ...                  ...   \n",
      "62314  OP753345054040002685  OP753345054040002685    NaN  2024-04-28 18:33:41   \n",
      "62315  OP753345054040002686  OP753345054040002686    NaN  2024-04-28 18:34:43   \n",
      "62316  OP753345054040002687  OP753345054040002687    NaN  2024-04-28 18:35:50   \n",
      "62317  OP753345054040002688  OP753345054040002688    NaN  2024-04-28 18:36:34   \n",
      "62318  OP753345054040002689  OP753345054040002689    NaN  2024-04-28 18:37:38   \n",
      "\n",
      "      Insp. Seq No.  ... Production Qty_Collect Result  \\\n",
      "1                 1  ...                             1   \n",
      "2                 1  ...                             2   \n",
      "3                 1  ...                             3   \n",
      "4                 1  ...                             4   \n",
      "5                 1  ...                             5   \n",
      "...             ...  ...                           ...   \n",
      "62314             1  ...                            11   \n",
      "62315             1  ...                             5   \n",
      "62316             1  ...                            12   \n",
      "62317             1  ...                             6   \n",
      "62318             1  ...                            13   \n",
      "\n",
      "      Production Qty_Unit Time Production Qty_Judge Value  \\\n",
      "1                          NaN                        NaN   \n",
      "2                          NaN                        NaN   \n",
      "3                          NaN                        NaN   \n",
      "4                          NaN                        NaN   \n",
      "5                          NaN                        NaN   \n",
      "...                        ...                        ...   \n",
      "62314                      NaN                        NaN   \n",
      "62315                      NaN                        NaN   \n",
      "62316                      NaN                        NaN   \n",
      "62317                      NaN                        NaN   \n",
      "62318                      NaN                        NaN   \n",
      "\n",
      "      Receip No_Collect Result Receip No_Unit Time Receip No_Judge Value  \\\n",
      "1                            1                 NaN                   NaN   \n",
      "2                            1                 NaN                   NaN   \n",
      "3                            1                 NaN                   NaN   \n",
      "4                            1                 NaN                   NaN   \n",
      "5                            1                 NaN                   NaN   \n",
      "...                        ...                 ...                   ...   \n",
      "62314                      435                 NaN                   NaN   \n",
      "62315                      436                 NaN                   NaN   \n",
      "62316                      437                 NaN                   NaN   \n",
      "62317                      438                 NaN                   NaN   \n",
      "62318                      439                 NaN                   NaN   \n",
      "\n",
      "      WorkMode_Collect Result WorkMode_Unit Time WorkMode_Judge Value  NaN  \n",
      "1                           0                NaN                  NaN  NaN  \n",
      "2                           0                NaN                  NaN  NaN  \n",
      "3                           0                NaN                  NaN  NaN  \n",
      "4                           0                NaN                  NaN  NaN  \n",
      "5                           0                NaN                  NaN  NaN  \n",
      "...                       ...                ...                  ...  ...  \n",
      "62314                       1                NaN                  NaN  0.0  \n",
      "62315                       1                NaN                  NaN  0.0  \n",
      "62316                       1                NaN                  NaN  0.0  \n",
      "62317                       1                NaN                  NaN  0.0  \n",
      "62318                       1                NaN                  NaN  0.0  \n",
      "\n",
      "[62318 rows x 132 columns]\n",
      "데이터 프레임이 data/Fill2 dispensing_header.csv로 저장되었습니다.\n"
     ]
    }
   ],
   "source": [
    "# 파일 경로\n",
    "file_name = 'Fill2 dispensing.csv'  # 원본 파일 이름\n",
    "file_path = os.path.join(ROOT_DIR, file_name)\n",
    "\n",
    "# 파일을 읽을 때 인코딩을 지정합니다.\n",
    "df = pd.read_csv(file_path, low_memory=False)\n",
    "\n",
    "# 첫 번째 행을 추출합니다.\n",
    "first_row = df.iloc[0]\n",
    "df = df[1:]  # 첫 번째 행을 제거하고 데이터프레임을 재구성합니다.\n",
    "\n",
    "# 숫자 앞의 .만 제거하는 함수\n",
    "def remove_dotted_numbers(s):\n",
    "    if isinstance(s, str):\n",
    "        # 숫자 앞에 있는 .과 함께 있는 숫자 제거\n",
    "        return re.sub(r'\\.\\d+', '', s).strip()\n",
    "    return s  # 문자열이 아닌 경우에는 원본 값을 반환\n",
    "\n",
    "# 열 이름을 갱신합니다.\n",
    "new_columns = [\n",
    "    f\"{remove_dotted_numbers(col)}_{remove_dotted_numbers(first_row[idx])}\"\n",
    "    if 'Unnamed' not in col and 'Collect Item' not in col\n",
    "    else remove_dotted_numbers(first_row[idx])\n",
    "    for idx, col in enumerate(df.columns)\n",
    "]\n",
    "df.columns = new_columns\n",
    "\n",
    "# 변경된 데이터프레임을 출력합니다.\n",
    "print(df)\n",
    "\n",
    "# 파일 이름에 _header를 붙여 새로운 파일 이름 생성\n",
    "base_name, ext = os.path.splitext(file_name)\n",
    "output_file_name = f\"{base_name}_header{ext}\"\n",
    "output_file_path = os.path.join(ROOT_DIR, output_file_name)\n",
    "\n",
    "# 데이터 프레임을 CSV로 저장합니다.\n",
    "df.to_csv(output_file_path, index=False, encoding='utf-8')\n",
    "\n",
    "print(f\"데이터 프레임이 {output_file_path}로 저장되었습니다.\")"
   ]
  }
 ],
 "metadata": {
  "kernelspec": {
   "display_name": "DL",
   "language": "python",
   "name": "python3"
  },
  "language_info": {
   "codemirror_mode": {
    "name": "ipython",
    "version": 3
   },
   "file_extension": ".py",
   "mimetype": "text/x-python",
   "name": "python",
   "nbconvert_exporter": "python",
   "pygments_lexer": "ipython3",
   "version": "3.12.2"
  }
 },
 "nbformat": 4,
 "nbformat_minor": 2
}
