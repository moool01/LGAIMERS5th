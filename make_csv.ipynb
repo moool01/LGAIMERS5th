{
 "cells": [
  {
   "cell_type": "code",
   "execution_count": 10,
   "metadata": {},
   "outputs": [],
   "source": [
    "import pandas as pd\n",
    "import os\n",
    "import re"
   ]
  },
  {
   "cell_type": "code",
   "execution_count": 11,
   "metadata": {},
   "outputs": [],
   "source": [
    "ROOT_DIR = \"data\""
   ]
  },
  {
   "cell_type": "code",
   "execution_count": 12,
   "metadata": {},
   "outputs": [],
   "source": [
    "#원래 코드에서 header = 1 삭제 후 생성한 csv"
   ]
  },
  {
   "cell_type": "code",
   "execution_count": 13,
   "metadata": {},
   "outputs": [],
   "source": [
    "def read_excel_file(file_path: str, header: int = None) -> pd.DataFrame:\n",
    "    csv_file = file_path.replace(\".xlsx\", \".csv\")\n",
    "\n",
    "    if not os.path.exists(csv_file):\n",
    "        print(\"Converting excel to csv...\")\n",
    "        if header:\n",
    "            df = pd.read_excel(file_path, header=header)\n",
    "        else:\n",
    "            df = pd.read_excel(file_path)\n",
    "\n",
    "        df.to_csv(csv_file, index=False)\n",
    "        print(f\"  {file_path} -> {csv_file}\")\n",
    "        return df\n",
    "    else:\n",
    "        print(f\"  Reading {csv_file}\")\n",
    "        return pd.read_csv(csv_file, low_memory=False)"
   ]
  },
  {
   "cell_type": "code",
   "execution_count": 14,
   "metadata": {},
   "outputs": [
    {
     "name": "stdout",
     "output_type": "stream",
     "text": [
      "Converting excel to csv...\n",
      "  data/Dam dispensing.xlsx -> data/Dam dispensing.csv\n",
      "Converting excel to csv...\n",
      "  data/Auto clave.xlsx -> data/Auto clave.csv\n",
      "Converting excel to csv...\n",
      "  data/Fill1 dispensing.xlsx -> data/Fill1 dispensing.csv\n",
      "Converting excel to csv...\n",
      "  data/Fill2 dispensing.xlsx -> data/Fill2 dispensing.csv\n"
     ]
    }
   ],
   "source": [
    "ROOT_DIR = \"data\"\n",
    "RANDOM_STATE = 110\n",
    "\n",
    "X_Dam = read_excel_file(os.path.join(ROOT_DIR, \"Dam dispensing.xlsx\"))\n",
    "\n",
    "X_AutoClave = read_excel_file(\n",
    "    os.path.join(ROOT_DIR, \"Auto clave.xlsx\")\n",
    ")\n",
    "\n",
    "X_Fill1 = read_excel_file(\n",
    "    os.path.join(ROOT_DIR, \"Fill1 dispensing.xlsx\")\n",
    ")\n",
    "\n",
    "X_Fill2 = read_excel_file(\n",
    "    os.path.join(ROOT_DIR, \"Fill2 dispensing.xlsx\")\n",
    ")\n",
    "\n",
    "y = pd.read_csv(os.path.join(ROOT_DIR, \"train_y.csv\"))"
   ]
  },
  {
   "cell_type": "code",
   "execution_count": 15,
   "metadata": {},
   "outputs": [
    {
     "name": "stderr",
     "output_type": "stream",
     "text": [
      "/var/folders/qj/004xgdtd15520sxppmd4bvvh0000gn/T/ipykernel_3309/1186202641.py:30: FutureWarning: Series.__getitem__ treating keys as positions is deprecated. In a future version, integer keys will always be treated as labels (consistent with DataFrame behavior). To access a value by position, use `ser.iloc[pos]`\n",
      "  else remove_dotted_numbers(first_row[idx])\n",
      "/var/folders/qj/004xgdtd15520sxppmd4bvvh0000gn/T/ipykernel_3309/1186202641.py:28: FutureWarning: Series.__getitem__ treating keys as positions is deprecated. In a future version, integer keys will always be treated as labels (consistent with DataFrame behavior). To access a value by position, use `ser.iloc[pos]`\n",
      "  f\"{remove_dotted_numbers(col)}_{remove_dotted_numbers(first_row[idx])}\"\n"
     ]
    },
    {
     "name": "stdout",
     "output_type": "stream",
     "text": [
      "데이터 프레임이 data/Auto clave.csv로 덮어쓰여 저장되었습니다.\n"
     ]
    },
    {
     "name": "stderr",
     "output_type": "stream",
     "text": [
      "/var/folders/qj/004xgdtd15520sxppmd4bvvh0000gn/T/ipykernel_3309/1186202641.py:30: FutureWarning: Series.__getitem__ treating keys as positions is deprecated. In a future version, integer keys will always be treated as labels (consistent with DataFrame behavior). To access a value by position, use `ser.iloc[pos]`\n",
      "  else remove_dotted_numbers(first_row[idx])\n",
      "/var/folders/qj/004xgdtd15520sxppmd4bvvh0000gn/T/ipykernel_3309/1186202641.py:28: FutureWarning: Series.__getitem__ treating keys as positions is deprecated. In a future version, integer keys will always be treated as labels (consistent with DataFrame behavior). To access a value by position, use `ser.iloc[pos]`\n",
      "  f\"{remove_dotted_numbers(col)}_{remove_dotted_numbers(first_row[idx])}\"\n"
     ]
    },
    {
     "name": "stdout",
     "output_type": "stream",
     "text": [
      "데이터 프레임이 data/Fill1 dispensing.csv로 덮어쓰여 저장되었습니다.\n"
     ]
    },
    {
     "name": "stderr",
     "output_type": "stream",
     "text": [
      "/var/folders/qj/004xgdtd15520sxppmd4bvvh0000gn/T/ipykernel_3309/1186202641.py:30: FutureWarning: Series.__getitem__ treating keys as positions is deprecated. In a future version, integer keys will always be treated as labels (consistent with DataFrame behavior). To access a value by position, use `ser.iloc[pos]`\n",
      "  else remove_dotted_numbers(first_row[idx])\n",
      "/var/folders/qj/004xgdtd15520sxppmd4bvvh0000gn/T/ipykernel_3309/1186202641.py:28: FutureWarning: Series.__getitem__ treating keys as positions is deprecated. In a future version, integer keys will always be treated as labels (consistent with DataFrame behavior). To access a value by position, use `ser.iloc[pos]`\n",
      "  f\"{remove_dotted_numbers(col)}_{remove_dotted_numbers(first_row[idx])}\"\n"
     ]
    },
    {
     "name": "stdout",
     "output_type": "stream",
     "text": [
      "데이터 프레임이 data/Fill2 dispensing.csv로 덮어쓰여 저장되었습니다.\n"
     ]
    },
    {
     "name": "stderr",
     "output_type": "stream",
     "text": [
      "/var/folders/qj/004xgdtd15520sxppmd4bvvh0000gn/T/ipykernel_3309/1186202641.py:30: FutureWarning: Series.__getitem__ treating keys as positions is deprecated. In a future version, integer keys will always be treated as labels (consistent with DataFrame behavior). To access a value by position, use `ser.iloc[pos]`\n",
      "  else remove_dotted_numbers(first_row[idx])\n",
      "/var/folders/qj/004xgdtd15520sxppmd4bvvh0000gn/T/ipykernel_3309/1186202641.py:28: FutureWarning: Series.__getitem__ treating keys as positions is deprecated. In a future version, integer keys will always be treated as labels (consistent with DataFrame behavior). To access a value by position, use `ser.iloc[pos]`\n",
      "  f\"{remove_dotted_numbers(col)}_{remove_dotted_numbers(first_row[idx])}\"\n"
     ]
    },
    {
     "name": "stdout",
     "output_type": "stream",
     "text": [
      "데이터 프레임이 data/Dam dispensing.csv로 덮어쓰여 저장되었습니다.\n"
     ]
    }
   ],
   "source": [
    "\n",
    "# 파일 이름 리스트\n",
    "file_names = [\n",
    "    'Auto clave.csv',\n",
    "    'Fill1 dispensing.csv',\n",
    "    'Fill2 dispensing.csv',\n",
    "    'Dam dispensing.csv'\n",
    "]\n",
    "\n",
    "# 숫자 앞의 .만 제거하는 함수\n",
    "def remove_dotted_numbers(s):\n",
    "    if isinstance(s, str):\n",
    "        # 숫자 앞에 있는 .과 함께 있는 숫자 제거\n",
    "        return re.sub(r'\\.\\d+', '', s).strip()\n",
    "    return s  # 문자열이 아닌 경우에는 원본 값을 반환\n",
    "\n",
    "for file_name in file_names:\n",
    "    file_path = os.path.join(ROOT_DIR, file_name)\n",
    "\n",
    "    # 파일을 읽을 때 인코딩을 지정합니다.\n",
    "    df = pd.read_csv(file_path, low_memory=False)\n",
    "\n",
    "    # 첫 번째 행을 추출합니다.\n",
    "    first_row = df.iloc[0]\n",
    "    df = df[1:]  # 첫 번째 행을 제거하고 데이터프레임을 재구성합니다.\n",
    "\n",
    "    # 열 이름을 갱신합니다.\n",
    "    new_columns = [\n",
    "        f\"{remove_dotted_numbers(col)}_{remove_dotted_numbers(first_row[idx])}\"\n",
    "        if 'Unnamed' not in col and 'Collect Item' not in col\n",
    "        else remove_dotted_numbers(first_row[idx])\n",
    "        for idx, col in enumerate(df.columns)\n",
    "    ]\n",
    "    df.columns = new_columns\n",
    "\n",
    "    # 덮어쓰기로 CSV 파일 저장\n",
    "    df.to_csv(file_path, index=False, encoding='utf-8')\n",
    "\n",
    "    print(f\"데이터 프레임이 {file_path}로 덮어쓰여 저장되었습니다.\")"
   ]
  },
  {
   "cell_type": "code",
   "execution_count": 16,
   "metadata": {},
   "outputs": [],
   "source": [
    "#Dam dispensing\n",
    "file_name = 'Dam dispensing.csv'  # 원본 파일 이름\n",
    "file_path = os.path.join(ROOT_DIR, file_name)\n",
    "X_Dam = pd.read_csv(file_path, low_memory=False)\n",
    "#Fill1 dispensing\n",
    "file_name = 'Fill1 dispensing.csv'  # 원본 파일 이름\n",
    "file_path = os.path.join(ROOT_DIR, file_name)\n",
    "X_Fill1 = pd.read_csv(file_path, low_memory=False)\n",
    "#Fill2 dispensing\n",
    "file_name = 'Fill2 dispensing.csv'  # 원본 파일 이름\n",
    "file_path = os.path.join(ROOT_DIR, file_name)\n",
    "X_Fill2 = pd.read_csv(file_path, low_memory=False)\n",
    "#Auto clave\n",
    "file_name = 'Auto clave.csv'  # 원본 파일 이름\n",
    "file_path = os.path.join(ROOT_DIR, file_name)\n",
    "X_AutoClave = pd.read_csv(file_path, low_memory=False)\n"
   ]
  },
  {
   "cell_type": "code",
   "execution_count": 17,
   "metadata": {},
   "outputs": [
    {
     "name": "stderr",
     "output_type": "stream",
     "text": [
      "/var/folders/qj/004xgdtd15520sxppmd4bvvh0000gn/T/ipykernel_3309/3430125453.py:6: FutureWarning: Setting an item of incompatible dtype is deprecated and will raise an error in a future version of pandas. Value '[0. 0. 0. ... 0. 0. 0.]' has dtype incompatible with int64, please explicitly cast to a compatible dtype first.\n",
      "  df_corrected.iloc[start_row:,i] = df.iloc[start_row:,i+3]\n",
      "/var/folders/qj/004xgdtd15520sxppmd4bvvh0000gn/T/ipykernel_3309/3430125453.py:6: FutureWarning: Setting an item of incompatible dtype is deprecated and will raise an error in a future version of pandas. Value '[ 85.     85.     85.    ... 114.612 114.612 114.612]' has dtype incompatible with int64, please explicitly cast to a compatible dtype first.\n",
      "  df_corrected.iloc[start_row:,i] = df.iloc[start_row:,i+3]\n"
     ]
    }
   ],
   "source": [
    "def restore_column_order(df, start_row, start_col):\n",
    "    df_corrected = df.copy()\n",
    "\n",
    "    # 특정 행 이후의 데이터에 대해 shift 함수 적용\n",
    "    for i in range(start_col,len(df.columns)-3):\n",
    "        df_corrected.iloc[start_row:,i] = df.iloc[start_row:,i+3]\n",
    "    return df_corrected\n",
    "# 특정 행 이후 열 복원\n",
    "\n",
    "df_corrected = restore_column_order(X_Dam, 25884, 62)\n",
    "df_corrected.drop('Unnamed: 221', axis=1, inplace=True)\n",
    "df_corrected.to_csv('./data/Dam_dispensing_shift.csv',index=False)\n",
    "\n",
    "df_corrected = restore_column_order(X_Fill1, 25836, 32)\n",
    "df_corrected.loc[:,'WorkMode_Collect Result']=7.0\n",
    "df_corrected.drop('Unnamed: 101', axis=1, inplace=True)\n",
    "df_corrected.to_csv('./data/Fill1_dispensing_shift.csv',index=False)\n",
    "\n",
    "df_corrected = restore_column_order(X_Fill2, 25805, 62)\n",
    "df_corrected.drop('Unnamed: 131', axis=1, inplace=True)\n",
    "df_corrected.to_csv('./data/Fill2_dispensing_shift.csv',index=False)\n"
   ]
  },
  {
   "cell_type": "code",
   "execution_count": 18,
   "metadata": {},
   "outputs": [
    {
     "name": "stderr",
     "output_type": "stream",
     "text": [
      "/var/folders/qj/004xgdtd15520sxppmd4bvvh0000gn/T/ipykernel_3309/2037483835.py:5: DtypeWarning: Columns (23,25) have mixed types. Specify dtype option on import or set low_memory=False.\n",
      "  X_AutoClave = pd.read_csv(\"./data/Auto clave.csv\")\n"
     ]
    }
   ],
   "source": [
    "RANDOM_STATE = 110\n",
    "\n",
    "X_Dam = pd.read_csv(\"./data/Dam_dispensing_shift.csv\")\n",
    "\n",
    "X_AutoClave = pd.read_csv(\"./data/Auto clave.csv\")\n",
    "\n",
    "X_Fill1 = pd.read_csv(\"./data/Fill1_dispensing_shift.csv\")\n",
    "\n",
    "X_Fill2 = pd.read_csv(\"./data/Fill2_dispensing_shift.csv\")\n",
    "\n",
    "y = pd.read_csv(\"./data/train_y.csv\")"
   ]
  },
  {
   "cell_type": "code",
   "execution_count": null,
   "metadata": {},
   "outputs": [],
   "source": []
  },
  {
   "cell_type": "code",
   "execution_count": null,
   "metadata": {},
   "outputs": [],
   "source": []
  }
 ],
 "metadata": {
  "kernelspec": {
   "display_name": "DL",
   "language": "python",
   "name": "python3"
  },
  "language_info": {
   "codemirror_mode": {
    "name": "ipython",
    "version": 3
   },
   "file_extension": ".py",
   "mimetype": "text/x-python",
   "name": "python",
   "nbconvert_exporter": "python",
   "pygments_lexer": "ipython3",
   "version": "3.12.2"
  }
 },
 "nbformat": 4,
 "nbformat_minor": 2
}
